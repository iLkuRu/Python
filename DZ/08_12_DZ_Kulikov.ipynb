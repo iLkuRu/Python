{
  "nbformat": 4,
  "nbformat_minor": 0,
  "metadata": {
    "colab": {
      "provenance": []
    },
    "kernelspec": {
      "name": "python3",
      "display_name": "Python 3"
    },
    "language_info": {
      "name": "python"
    }
  },
  "cells": [
    {
      "cell_type": "markdown",
      "source": [
        "**Навигация по уроку**\n",
        "\n",
        "1. [Нейронные сети. Математическая модель нейрона.](https://colab.research.google.com/drive/1XXxO2vyd9IDYT23tQrVMAAYeHYn-Awww)\n",
        "2. [Нейронные сети. Функции активации](https://colab.research.google.com/drive/1mhEEhb3mdE5mKFIvOiC5tHvkPiWD8DBj)\n",
        "3. Домашняя работа"
      ],
      "metadata": {
        "id": "8LIWrmOPjBO6"
      }
    },
    {
      "cell_type": "markdown",
      "source": [
        "## Задача 1. Класс Neuron"
      ],
      "metadata": {
        "id": "B5IghQAm20sG"
      }
    },
    {
      "cell_type": "markdown",
      "source": [
        "**Условие** Используя примеры из теоретической части 5.1 и 5.2, составьте класс Neuron модели нейрона, принимающего на вход от одного до 10 входных параметров. Для последнего параметра используется вес $x_n$ = 1, таким образом $w_n=b$ - является смещением. Запрещается пользоваться библиотекой numpy. На вход подается список. Матричное умножение реализуется с помощью циклов самостоятельно. Класс содержит методы для вычисления взвешенной суммы, а также содержит функции активации из урока."
      ],
      "metadata": {
        "id": "BxRUPNKFrxow"
      }
    },
    {
      "cell_type": "code",
      "execution_count": 5,
      "metadata": {
        "id": "El4o9_QWeq78",
        "colab": {
          "base_uri": "https://localhost:8080/"
        },
        "outputId": "c12f3f20-9d18-4a55-bdc9-8d7a4cb95b63"
      },
      "outputs": [
        {
          "output_type": "stream",
          "name": "stdout",
          "text": [
            "S = 6.8414749759435125\n",
            "Y = 1\n",
            "Y-Сигмоида-alfa 0.9683463846639536\n",
            "Y-Сигмоида-alfa 0.9989326143431952\n",
            "Y-Сигмоида-alfa 0.9999988582530928\n",
            "Y-Сигмоида 0.9989326143431952\n",
            "Y-Хевисайда 1.0\n",
            "Y-тангенс гиперболический 0.9999977165061853\n",
            "Y-ReLUа 6.8414749759435125\n",
            "Y-Leaky ReLU 6.8414749759435125\n",
            "Y-ELU 6.8414749759435125\n"
          ]
        }
      ],
      "source": [
        "#Напишите свое решение\n",
        "import random\n",
        "import math\n",
        "\n",
        "class Neuron:\n",
        "    def __init__ (self, w):\n",
        "        self.w = w\n",
        "\n",
        "    def y(self, x):\n",
        "        s = sum([i*j for i, j in zip(x, self.w)])\n",
        "        return s\n",
        "    def onestep(self, x): # Функция активации\n",
        "        if x >= 0:\n",
        "            return 1\n",
        "        else:\n",
        "            return 0\n",
        "\n",
        "    def sigmoid_a(self, alpha, x): # Функция активации sigmoid-a\n",
        "      return 1 / ( 1 + math.exp(-alpha * x) )\n",
        "\n",
        "    def sigmoid(self, x): # Функция активации sigmoid\n",
        "        return 1 / (1 + math.exp(-x))\n",
        "\n",
        "    def heaviside(self, x): # Функция активации Хевисайда\n",
        "      if x < 0:\n",
        "          return 0.0\n",
        "      elif x == 0:\n",
        "          return 0.5\n",
        "      else:\n",
        "          return 1.0\n",
        "\n",
        "    def tanh(self, x):  # Функция активации тангенс гиперболический\n",
        "      return (math.exp(x) - math.exp(-x)) / (math.exp(x) + math.exp(-x))\n",
        "\n",
        "    def relu(self, x): # Функция активации ReLU\n",
        "      return max(0, x)\n",
        "\n",
        "    def leaky_relu(self, x, alpha=0.01): # Функция активации Leaky ReLU\n",
        "      return max(alpha * x, x)\n",
        "\n",
        "    def elu(self, x, alpha=1.0): # Функция активации ELU\n",
        "      return x if x > 0 else alpha * (math.exp(x) - 1)\n",
        "\n",
        "\n",
        "bias = 5 # порог срабатывания\n",
        "Xi = [random.randint(0, 1) for _ in range(10)]\n",
        "Wi = [random.uniform(1, 3) for _ in range(10)]\n",
        "\n",
        "#sum_x = sum([i*j for i, j in zip(Xi, Wi)])\n",
        "n = Neuron(Wi)\n",
        "S = n.y(Xi) - bias\n",
        "print('S =', S)\n",
        "print('Y =', n.onestep(S))\n",
        "print('Y-Сигмоида-alfa', n.sigmoid_a(0.5, S))\n",
        "print('Y-Сигмоида-alfa', n.sigmoid_a(1.0, S))\n",
        "print('Y-Сигмоида-alfa', n.sigmoid_a(2.0, S))\n",
        "print('Y-Сигмоида', n.sigmoid(S))\n",
        "print('Y-Хевисайда', n.heaviside(S))\n",
        "print('Y-тангенс гиперболический', n.tanh(S))\n",
        "print('Y-ReLUа', n.relu(S))\n",
        "print('Y-Leaky ReLU', n.leaky_relu(S))\n",
        "print('Y-ELU', n.elu(S))"
      ]
    },
    {
      "cell_type": "markdown",
      "source": [
        "## Задача 2. Класс Neuron (продолжение)"
      ],
      "metadata": {
        "id": "BXPoR8av3AUx"
      }
    },
    {
      "cell_type": "markdown",
      "source": [
        "**Условие.** Используя класс Neuron из первой задачи, придумать свой пример на принятие решения (по аналогии с задачей \"о рыбаке и рыбке\"), не менее 4 входных параметров, веса установить произвольно из логики задачи, произвести расчёт функций активаций, определённых в классе первой задачи."
      ],
      "metadata": {
        "id": "KLC5Gv3L3CP_"
      }
    },
    {
      "cell_type": "code",
      "source": [
        "#Напишите свое решение\n",
        "import random\n",
        "import math\n",
        "\n",
        "class Neuron:\n",
        "    def __init__ (self, w):\n",
        "        self.w = w\n",
        "\n",
        "    def y(self, x):\n",
        "        s = sum([i*j for i, j in zip(x, self.w)])\n",
        "        return s\n",
        "    def onestep(self, x): # Функция активации\n",
        "        if x >= 0:\n",
        "            return 1\n",
        "        else:\n",
        "            return 0\n",
        "\n",
        "    def sigmoid_a(self, alpha, x): # Функция активации sigmoid-a\n",
        "      return 1 / ( 1 + math.exp(-alpha * x) )\n",
        "\n",
        "    def sigmoid(self, x): # Функция активации sigmoid\n",
        "        return 1 / (1 + math.exp(-x))\n",
        "\n",
        "    def heaviside(self, x): # Функция активации Хевисайда\n",
        "      if x < 0:\n",
        "          return 0.0\n",
        "      elif x == 0:\n",
        "          return 0.5\n",
        "      else:\n",
        "          return 1.0\n",
        "\n",
        "    def tanh(self, x):  # Функция активации тангенс гиперболический\n",
        "      return (math.exp(x) - math.exp(-x)) / (math.exp(x) + math.exp(-x))\n",
        "\n",
        "    def relu(self, x): # Функция активации ReLU\n",
        "      return max(0, x)\n",
        "\n",
        "    def leaky_relu(self, x, alpha=0.01): # Функция активации Leaky ReLU\n",
        "      return max(alpha * x, x)\n",
        "\n",
        "    def elu(self, x, alpha=1.0): # Функция активации ELU\n",
        "      return x if x > 0 else alpha * (math.exp(x) - 1)\n",
        "\n",
        "\n",
        "bias = 5 # порог срабатывания\n",
        "Xi = [random.randint(0, 1) for _ in range(10)]\n",
        "Wi = [random.uniform(1, 3) for _ in range(10)]\n",
        "\n",
        "#sum_x = sum([i*j for i, j in zip(Xi, Wi)])\n",
        "n = Neuron(Wi)\n",
        "S = n.y(Xi) - bias\n",
        "print('S =', S)\n",
        "print('Y =', n.onestep(S))\n",
        "print('Y-Сигмоида-alfa', n.sigmoid_a(0.5, S))\n",
        "print('Y-Сигмоида-alfa', n.sigmoid_a(1.0, S))\n",
        "print('Y-Сигмоида-alfa', n.sigmoid_a(2.0, S))\n",
        "print('Y-Сигмоида', n.sigmoid(S))\n",
        "print('Y-Хевисайда', n.heaviside(S))\n",
        "print('Y-тангенс гиперболический', n.tanh(S))\n",
        "print('Y-ReLUа', n.relu(S))\n",
        "print('Y-Leaky ReLU', n.leaky_relu(S))\n",
        "print('Y-ELU', n.elu(S))"
      ],
      "metadata": {
        "id": "yr-i4FFg3DAf",
        "colab": {
          "base_uri": "https://localhost:8080/"
        },
        "outputId": "941d2a35-4031-4b3c-dd0e-3756e8e94072"
      },
      "execution_count": 6,
      "outputs": [
        {
          "output_type": "stream",
          "name": "stdout",
          "text": [
            "S = 6.538575408538129\n",
            "Y = 1\n",
            "Y-Сигмоида-alfa 0.9633600377809841\n",
            "Y-Сигмоида-alfa 0.9985555417064597\n",
            "Y-Сигмоида-alfa 0.9999979075039234\n",
            "Y-Сигмоида 0.9985555417064597\n",
            "Y-Хевисайда 1.0\n",
            "Y-тангенс гиперболический 0.9999958150078468\n",
            "Y-ReLUа 6.538575408538129\n",
            "Y-Leaky ReLU 6.538575408538129\n",
            "Y-ELU 6.538575408538129\n"
          ]
        }
      ]
    }
  ]
}