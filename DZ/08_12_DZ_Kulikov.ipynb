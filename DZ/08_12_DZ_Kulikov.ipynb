{
  "nbformat": 4,
  "nbformat_minor": 0,
  "metadata": {
    "colab": {
      "provenance": []
    },
    "kernelspec": {
      "name": "python3",
      "display_name": "Python 3"
    },
    "language_info": {
      "name": "python"
    }
  },
  "cells": [
    {
      "cell_type": "markdown",
      "source": [
        "**Навигация по уроку**\n",
        "\n",
        "1. [Нейронные сети. Математическая модель нейрона.](https://colab.research.google.com/drive/1XXxO2vyd9IDYT23tQrVMAAYeHYn-Awww)\n",
        "2. [Нейронные сети. Функции активации](https://colab.research.google.com/drive/1mhEEhb3mdE5mKFIvOiC5tHvkPiWD8DBj)\n",
        "3. Домашняя работа"
      ],
      "metadata": {
        "id": "8LIWrmOPjBO6"
      }
    },
    {
      "cell_type": "markdown",
      "source": [
        "## Задача 1. Класс Neuron"
      ],
      "metadata": {
        "id": "B5IghQAm20sG"
      }
    },
    {
      "cell_type": "markdown",
      "source": [
        "**Условие** Используя примеры из теоретической части 5.1 и 5.2, составьте класс Neuron модели нейрона, принимающего на вход от одного до 10 входных параметров. Для последнего параметра используется вес $x_n$ = 1, таким образом $w_n=b$ - является смещением. Запрещается пользоваться библиотекой numpy. На вход подается список. Матричное умножение реализуется с помощью циклов самостоятельно. Класс содержит методы для вычисления взвешенной суммы, а также содержит функции активации из урока."
      ],
      "metadata": {
        "id": "BxRUPNKFrxow"
      }
    },
    {
      "cell_type": "code",
      "execution_count": 14,
      "metadata": {
        "id": "El4o9_QWeq78",
        "colab": {
          "base_uri": "https://localhost:8080/"
        },
        "outputId": "52fa784e-b74a-4fe6-d8fd-e1c06fbc0dec"
      },
      "outputs": [
        {
          "output_type": "stream",
          "name": "stdout",
          "text": [
            "S = 3.3517586231502094\n",
            "Y = 1\n",
            "Y-Сигмоида-alfa 0.8423581127301898\n",
            "Y-Сигмоида-alfa 0.96616237702894\n",
            "Y-Сигмоида-alfa 0.9987749125928319\n",
            "Y-Сигмоида 0.96616237702894\n",
            "Y-Хевисайда 1.0\n",
            "Y-тангенс гиперболический 0.9975498251856637\n",
            "Y-ReLU-фукция 3.3517586231502094\n",
            "Y-ReLU-половина 3.3517586231502094\n",
            "Y-ReLU-class 3.3517586231502094\n",
            "Y-Leaky ReLU 3.3517586231502094\n",
            "Y-ELU 3.3517586231502094\n"
          ]
        }
      ],
      "source": [
        "import random\n",
        "import math\n",
        "\n",
        "class Neuron:\n",
        "    def __init__ (self, w, b, x): #1) Можно передать в класс веса, биас и вектор\n",
        "        self.w = w\n",
        "        self.b = b\n",
        "        self.x = x\n",
        "\n",
        "    def sum(self): # сумматор + биас\n",
        "      s = sum([i*j for i, j in zip(self.x, self.w)]) + self.b\n",
        "      return s\n",
        "\n",
        "    def y(self, x): #2) тут входит вектор, веса беруться из класса\n",
        "        s = sum([i*j for i, j in zip(x, self.w)]) + self.b\n",
        "        return s\n",
        "\n",
        "    def onestep(self, x): # Функция активации\n",
        "        if x >= 0:\n",
        "            return 1\n",
        "        else:\n",
        "            return 0\n",
        "\n",
        "    def sigmoid_a(self, alpha, x): # Функция активации sigmoid-a\n",
        "      return 1 / ( 1 + math.exp(-alpha * x) )\n",
        "\n",
        "    def sigmoid(self, x): # Функция активации sigmoid\n",
        "        return 1 / (1 + math.exp(-x))\n",
        "\n",
        "    def heaviside(self, x): # Функция активации Хевисайда\n",
        "      if x < 0:\n",
        "          return 0.0\n",
        "      elif x == 0:\n",
        "          return 0.5\n",
        "      else:\n",
        "          return 1.0\n",
        "\n",
        "    def tanh(self, x):  # Функция активации тангенс гиперболический\n",
        "      return (math.exp(x) - math.exp(-x)) / (math.exp(x) + math.exp(-x))\n",
        "\n",
        "    def relu(self, x): # Функция активации ReLU\n",
        "      return max(0, x)\n",
        "\n",
        "    def relus(self): # Функция активации ReLU через фукцию n.sum\n",
        "      s = n.sum()\n",
        "      return max(0, s)\n",
        "\n",
        "    def leaky_relu(self, x, alpha=0.01): # Функция активации Leaky ReLU\n",
        "      return max(alpha * x, x)\n",
        "\n",
        "    def elu(self, x, alpha=1.0): # Функция активации ELU\n",
        "      return x if x > 0 else alpha * (math.exp(x) - 1)\n",
        "\n",
        "\n",
        "bias = 3\n",
        "Xi = [random.randint(0, 1) for _ in range(10)]\n",
        "Wi = [random.uniform(-0.5, 0.5) for _ in range(10)]\n",
        "\n",
        "#3)сумматор для передачи в функцию активации.\n",
        "sum_x = sum([i*j for i, j in zip(Xi, Wi)]) + bias\n",
        "\n",
        "\n",
        "n = Neuron(Wi, bias, Xi)\n",
        "S = n.y(Xi)\n",
        "print('S =', S)\n",
        "print('Y =', n.onestep(S))\n",
        "print('Y-Сигмоида-alfa', n.sigmoid_a(0.5, S))\n",
        "print('Y-Сигмоида-alfa', n.sigmoid_a(1.0, S))\n",
        "print('Y-Сигмоида-alfa', n.sigmoid_a(2.0, S))\n",
        "print('Y-Сигмоида', n.sigmoid(S))\n",
        "print('Y-Хевисайда', n.heaviside(S))\n",
        "print('Y-тангенс гиперболический', n.tanh(S))\n",
        "print('Y-ReLU-фукция', n.relu(sum_x))\n",
        "print('Y-ReLU-половина', n.relu(S))\n",
        "print('Y-ReLU-class', n.relus())\n",
        "print('Y-Leaky ReLU', n.leaky_relu(S))\n",
        "print('Y-ELU', n.elu(S))"
      ]
    },
    {
      "cell_type": "markdown",
      "source": [
        "## Задача 2. Класс Neuron (продолжение)"
      ],
      "metadata": {
        "id": "BXPoR8av3AUx"
      }
    },
    {
      "cell_type": "markdown",
      "source": [
        "**Условие.** Используя класс Neuron из первой задачи, придумать свой пример на принятие решения (по аналогии с задачей \"о рыбаке и рыбке\"), не менее 4 входных параметров, веса установить произвольно из логики задачи, произвести расчёт функций активаций, определённых в классе первой задачи."
      ],
      "metadata": {
        "id": "KLC5Gv3L3CP_"
      }
    },
    {
      "cell_type": "code",
      "source": [
        "import random\n",
        "import math\n",
        "\n",
        "class Neuron:\n",
        "    def __init__ (self, w, b, x): #1) Можно передать в класс веса, биас и вектор\n",
        "        self.w = w\n",
        "        self.b = b\n",
        "        self.x = x\n",
        "\n",
        "    def sum(self): # сумматор + биас\n",
        "      s = sum([i*j for i, j in zip(self.x, self.w)]) + self.b\n",
        "      return s\n",
        "\n",
        "    def y(self, x): #2) тут входит вектор, веса беруться из класса\n",
        "        s = sum([i*j for i, j in zip(x, self.w)]) + self.b\n",
        "        return s\n",
        "\n",
        "    def onestep(self, x): # Функция активации\n",
        "        if x >= 0:\n",
        "            return 1\n",
        "        else:\n",
        "            return 0\n",
        "\n",
        "    def sigmoid_a(self, alpha, x): # Функция активации sigmoid-a\n",
        "      return 1 / ( 1 + math.exp(-alpha * x) )\n",
        "\n",
        "    def sigmoid(self, x): # Функция активации sigmoid\n",
        "        return 1 / (1 + math.exp(-x))\n",
        "\n",
        "    def heaviside(self, x): # Функция активации Хевисайда\n",
        "      if x < 0:\n",
        "          return 0.0\n",
        "      elif x == 0:\n",
        "          return 0.5\n",
        "      else:\n",
        "          return 1.0\n",
        "\n",
        "    def tanh(self, x):  # Функция активации тангенс гиперболический\n",
        "      return (math.exp(x) - math.exp(-x)) / (math.exp(x) + math.exp(-x))\n",
        "\n",
        "    def relu(self, x): # Функция активации ReLU\n",
        "      return max(0, x)\n",
        "\n",
        "    def relus(self): # Функция активации ReLU через фукцию n.sum\n",
        "      s = n.sum()\n",
        "      return max(0, s)\n",
        "\n",
        "    def leaky_relu(self, x, alpha=0.01): # Функция активации Leaky ReLU\n",
        "      return max(alpha * x, x)\n",
        "\n",
        "    def elu(self, x, alpha=1.0): # Функция активации ELU\n",
        "      return x if x > 0 else alpha * (math.exp(x) - 1)\n",
        "\n",
        "\n",
        "bias = 3\n",
        "Xi = [random.randint(0, 1) for _ in range(4)]\n",
        "Wi = [random.uniform(-0.5, 0.5) for _ in range(4)]\n",
        "\n",
        "#3)сумматор для передачи в функцию активации.\n",
        "sum_x = sum([i*j for i, j in zip(Xi, Wi)]) + bias\n",
        "\n",
        "\n",
        "n = Neuron(Wi, bias, Xi)\n",
        "S = n.y(Xi)\n",
        "print('S =', S)\n",
        "print('Y =', n.onestep(S))\n",
        "print('Y-Сигмоида-alfa', n.sigmoid_a(0.5, S))\n",
        "print('Y-Сигмоида-alfa', n.sigmoid_a(1.0, S))\n",
        "print('Y-Сигмоида-alfa', n.sigmoid_a(2.0, S))\n",
        "print('Y-Сигмоида', n.sigmoid(S))\n",
        "print('Y-Хевисайда', n.heaviside(S))\n",
        "print('Y-тангенс гиперболический', n.tanh(S))\n",
        "print('Y-ReLU-фукция', n.relu(sum_x))\n",
        "print('Y-ReLU-половина', n.relu(S))\n",
        "print('Y-ReLU-class', n.relus())\n",
        "print('Y-Leaky ReLU', n.leaky_relu(S))\n",
        "print('Y-ELU', n.elu(S))"
      ],
      "metadata": {
        "id": "yr-i4FFg3DAf",
        "colab": {
          "base_uri": "https://localhost:8080/"
        },
        "outputId": "843233b1-42e4-4b56-da4a-eca2e104ef02"
      },
      "execution_count": 16,
      "outputs": [
        {
          "output_type": "stream",
          "name": "stdout",
          "text": [
            "S = 3.0040002439648594\n",
            "Y = 1\n",
            "Y-Сигмоида-alfa 0.8178725978284521\n",
            "Y-Сигмоида-alfa 0.9527545176615007\n",
            "Y-Сигмоида-alfa 0.997547031780614\n",
            "Y-Сигмоида 0.9527545176615007\n",
            "Y-Хевисайда 1.0\n",
            "Y-тангенс гиперболический 0.995094063561228\n",
            "Y-ReLU-фукция 3.0040002439648594\n",
            "Y-ReLU-половина 3.0040002439648594\n",
            "Y-ReLU-class 3.0040002439648594\n",
            "Y-Leaky ReLU 3.0040002439648594\n",
            "Y-ELU 3.0040002439648594\n"
          ]
        }
      ]
    },
    {
      "cell_type": "markdown",
      "source": [
        "Тест из цельсия в фарингейты\n"
      ],
      "metadata": {
        "id": "Y-xXedE0qrra"
      }
    },
    {
      "cell_type": "code",
      "source": [
        "#Тенсор\n",
        "import random\n",
        "import numpy as np\n",
        "import matplotlib.pyplot as plt\n",
        "from tensorflow import keras\n",
        "from tensorflow.keras.layers import Dense"
      ],
      "metadata": {
        "id": "THY_NHrhjYfA"
      },
      "execution_count": null,
      "outputs": []
    },
    {
      "cell_type": "code",
      "source": [
        "c = np.array([-40, -10, 0, 8, 15, 22, 38])\n",
        "f = np.array([-40, 14, 32, 46, 59, 72, 100])\n",
        "\n",
        "model = keras.Sequential()\n",
        "model.add(Dense(units=1, input_shape=(1,), activation='linear' ))\n",
        "\n",
        "model.compile(loss='mean_squared_error', optimizer=keras.optimizers.Adam(0.1))\n",
        "history = model.fit(c, f, epochs=500, verbose=0)\n",
        "\n",
        "plt.plot(history.history['loss'])\n",
        "plt.grid(True)\n",
        "plt.show()"
      ],
      "metadata": {
        "colab": {
          "base_uri": "https://localhost:8080/",
          "height": 430
        },
        "id": "fxvbx0glmDZg",
        "outputId": "b19b92b0-9cf6-47c1-f9f7-0a15edaaa777"
      },
      "execution_count": null,
      "outputs": [
        {
          "output_type": "display_data",
          "data": {
            "text/plain": [
              "<Figure size 640x480 with 1 Axes>"
            ],
            "image/png": "[encoded data removed]"
          },
          "metadata": {}
        }
      ]
    },
    {
      "cell_type": "code",
      "source": [
        "print(model.predict([100]))"
      ],
      "metadata": {
        "colab": {
          "base_uri": "https://localhost:8080/"
        },
        "id": "V6nLsvNrpCx3",
        "outputId": "4bdebdb6-b80a-4c5a-923a-a16453c0d2b6"
      },
      "execution_count": null,
      "outputs": [
        {
          "output_type": "stream",
          "name": "stdout",
          "text": [
            "1/1 [==============================] - 0s 66ms/step\n",
            "[[211.32755]]\n"
          ]
        }
      ]
    },
    {
      "cell_type": "code",
      "source": [
        "print(model.get_weights())"
      ],
      "metadata": {
        "colab": {
          "base_uri": "https://localhost:8080/"
        },
        "id": "H-BZJ9OZt2Jp",
        "outputId": "db8c305d-e1d9-4940-bd01-8a5887ba16bf"
      },
      "execution_count": null,
      "outputs": [
        {
          "output_type": "stream",
          "name": "stdout",
          "text": [
            "[array([[1.8220427]], dtype=float32), array([29.123281], dtype=float32)]\n"
          ]
        }
      ]
    }
  ]
}