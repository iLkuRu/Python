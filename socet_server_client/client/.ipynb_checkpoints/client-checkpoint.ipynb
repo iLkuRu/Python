{
 "cells": [
  {
   "cell_type": "code",
   "execution_count": 3,
   "id": "e74288fc",
   "metadata": {},
   "outputs": [
    {
     "name": "stdout",
     "output_type": "stream",
     "text": [
      "Введите имя файла для отправкиZoom.exe\n",
      "Отправлено имя файла: Zoom.exe\n",
      "Файл успешно отправлен.\n"
     ]
    }
   ],
   "source": [
    "import socket\n",
    "\n",
    "# Создаем сокет\n",
    "client_socket = socket.socket(socket.AF_INET, socket.SOCK_STREAM)\n",
    "\n",
    "# Подключаемся к серверу\n",
    "server_address = ('localhost', 12345)\n",
    "client_socket.connect(server_address)\n",
    "\n",
    "# Отправляем имя файла\n",
    "file_name = input('Введите имя файла для отправки')\n",
    "client_socket.send(file_name.encode())\n",
    "print(f\"Отправлено имя файла: {file_name}\")\n",
    "\n",
    "# Открываем файл для чтения и отправляем его содержимое\n",
    "with open(file_name, 'rb') as file:\n",
    "    data = file.read(1024)\n",
    "    while data:\n",
    "        client_socket.send(data)\n",
    "        data = file.read(1024)\n",
    "\n",
    "print(\"Файл успешно отправлен.\")\n",
    "\n",
    "# Закрываем соединение\n",
    "client_socket.close()"
   ]
  },
  {
   "cell_type": "code",
   "execution_count": null,
   "id": "fed8fde8",
   "metadata": {},
   "outputs": [],
   "source": []
  }
 ],
 "metadata": {
  "kernelspec": {
   "display_name": "Python 3 (ipykernel)",
   "language": "python",
   "name": "python3"
  },
  "language_info": {
   "codemirror_mode": {
    "name": "ipython",
    "version": 3
   },
   "file_extension": ".py",
   "mimetype": "text/x-python",
   "name": "python",
   "nbconvert_exporter": "python",
   "pygments_lexer": "ipython3",
   "version": "3.11.5"
  }
 },
 "nbformat": 4,
 "nbformat_minor": 5
}
