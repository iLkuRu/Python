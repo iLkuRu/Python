{
 "cells": [
  {
   "cell_type": "code",
   "execution_count": 3,
   "id": "41e527ef",
   "metadata": {},
   "outputs": [
    {
     "name": "stdout",
     "output_type": "stream",
     "text": [
      "Ждем соединения...\n",
      "Подключено к ('127.0.0.1', 49234)\n",
      "Получено имя файла: Zoom.exe\n",
      "Файл успешно получен.\n"
     ]
    }
   ],
   "source": [
    "import socket\n",
    "\n",
    "# Создаем сокет\n",
    "server_socket = socket.socket(socket.AF_INET, socket.SOCK_STREAM)\n",
    "\n",
    "# Связываем сокет с адресом и портом\n",
    "server_address = ('localhost', 12345)\n",
    "server_socket.bind(server_address)\n",
    "\n",
    "# Слушаем входящие соединения\n",
    "server_socket.listen(1)\n",
    "\n",
    "print(\"Ждем соединения...\")\n",
    "\n",
    "# Принимаем соединение\n",
    "client_socket, client_address = server_socket.accept()\n",
    "print(f\"Подключено к {client_address}\")\n",
    "\n",
    "# Принимаем имя файла\n",
    "file_name = client_socket.recv(1024).decode()\n",
    "print(f\"Получено имя файла: {file_name}\")\n",
    "\n",
    "# Открываем файл для записи\n",
    "with open(file_name, 'wb') as file:\n",
    "    # Принимаем и записываем данные файла\n",
    "    data = client_socket.recv(1024)\n",
    "    while data:\n",
    "        file.write(data)\n",
    "        data = client_socket.recv(1024)\n",
    "\n",
    "print(\"Файл успешно получен.\")\n",
    "\n",
    "# Закрываем соединение\n",
    "client_socket.close()\n",
    "server_socket.close()"
   ]
  },
  {
   "cell_type": "code",
   "execution_count": null,
   "id": "e915e8e1",
   "metadata": {},
   "outputs": [],
   "source": []
  }
 ],
 "metadata": {
  "kernelspec": {
   "display_name": "Python 3 (ipykernel)",
   "language": "python",
   "name": "python3"
  },
  "language_info": {
   "codemirror_mode": {
    "name": "ipython",
    "version": 3
   },
   "file_extension": ".py",
   "mimetype": "text/x-python",
   "name": "python",
   "nbconvert_exporter": "python",
   "pygments_lexer": "ipython3",
   "version": "3.11.5"
  }
 },
 "nbformat": 4,
 "nbformat_minor": 5
}
